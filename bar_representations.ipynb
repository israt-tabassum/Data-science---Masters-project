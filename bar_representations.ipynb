{
 "cells": [
  {
   "cell_type": "code",
   "execution_count": 1,
   "id": "d9b8724e",
   "metadata": {},
   "outputs": [
    {
     "name": "stdout",
     "output_type": "stream",
     "text": [
      "Edge from 0 to 1 crosses between heights 0 and 10\n",
      "Edge from 1 to 2 crosses between heights 10 and 20\n",
      "Edge from 2 to 3 crosses between heights 20 and 30\n",
      "Edge from 3 to 4 crosses between heights 30 and 40\n",
      "Edge from 0 to 4 crosses between heights 0 and 40\n",
      "Edge from 1 to 3 crosses between heights 10 and 30\n"
     ]
    }
   ],
   "source": [
    "class Vertex:\n",
    "    def __init__(self, id, x, y):\n",
    "        self.id = id\n",
    "        self.x = x  # Horizontal position of the bar (vertex)\n",
    "        self.y = y  # Vertical position of the bar\n",
    "\n",
    "class Edge:\n",
    "    def __init__(self, src, dest):\n",
    "        self.src = src\n",
    "        self.dest = dest\n",
    "\n",
    "class Graph:\n",
    "    def __init__(self, vertices):\n",
    "        self.vertices = {v.id: v for v in vertices}\n",
    "        self.edges = []\n",
    "\n",
    "    def add_edge(self, src_id, dest_id):\n",
    "        if src_id in self.vertices and dest_id in self.vertices:\n",
    "            self.edges.append(Edge(self.vertices[src_id], self.vertices[dest_id]))\n",
    "\n",
    "    def find_placement(self):\n",
    "        # Initial naive placement of edges\n",
    "        for edge in self.edges:\n",
    "            # Calculate initial potential crossings\n",
    "            min_y = min(edge.src.y, edge.dest.y)\n",
    "            max_y = max(edge.src.y, edge.dest.y)\n",
    "            edge.crossings = [(min_y, max_y)]\n",
    "        \n",
    "        # Attempt to minimize crossings\n",
    "        for edge in self.edges:\n",
    "            crossings = 0\n",
    "            for other_edge in self.edges:\n",
    "                if edge != other_edge:\n",
    "                    if (other_edge.src.y < edge.src.y < other_edge.dest.y or \n",
    "                        other_edge.src.y < edge.dest.y < other_edge.dest.y):\n",
    "                        crossings += 1\n",
    "            # If crossings more than 2, attempt to adjust position (simplified)\n",
    "            if crossings > 2:\n",
    "                print(f\"Edge ({edge.src.id}, {edge.dest.id}) has {crossings} crossings, adjusting...\")\n",
    "                # This part is very simplified, in reality more complex logic is needed\n",
    "                edge.src.y += 1  # Moving src up to reduce crossings\n",
    "                edge.dest.y += 1  # Moving dest up to reduce crossings\n",
    "\n",
    "    def display(self):\n",
    "        for edge in self.edges:\n",
    "            print(f\"Edge from {edge.src.id} to {edge.dest.id} crosses between heights {edge.src.y} and {edge.dest.y}\")\n",
    "\n",
    "# Example usage\n",
    "vertices = [Vertex(i, 0, i*10) for i in range(5)]  # 5 vertices positioned at different y levels\n",
    "graph = Graph(vertices)\n",
    "graph.add_edge(0, 1)\n",
    "graph.add_edge(1, 2)\n",
    "graph.add_edge(2, 3)\n",
    "graph.add_edge(3, 4)\n",
    "graph.add_edge(0, 4)\n",
    "graph.add_edge(1, 3)\n",
    "\n",
    "graph.find_placement()\n",
    "graph.display()\n"
   ]
  },
  {
   "cell_type": "code",
   "execution_count": 2,
   "id": "1bb20121",
   "metadata": {},
   "outputs": [
    {
     "data": {
      "image/png": "[encoded data removed]",
      "text/plain": [
       "<Figure size 640x480 with 1 Axes>"
      ]
     },
     "metadata": {},
     "output_type": "display_data"
    }
   ],
   "source": [
    "import matplotlib.pyplot as plt\n",
    "\n",
    "class Vertex:\n",
    "    def __init__(self, id, x, y):\n",
    "        self.id = id\n",
    "        self.x = x  # Horizontal position of the bar (vertex)\n",
    "        self.y = y  # Vertical position of the bar\n",
    "\n",
    "class Edge:\n",
    "    def __init__(self, src, dest):\n",
    "        self.src = src\n",
    "        self.dest = dest\n",
    "\n",
    "class Graph:\n",
    "    def __init__(self, vertices):\n",
    "        self.vertices = {v.id: v for v in vertices}\n",
    "        self.edges = []\n",
    "\n",
    "    def add_edge(self, src_id, dest_id):\n",
    "        if src_id in self.vertices and dest_id in self.vertices:\n",
    "            self.edges.append(Edge(self.vertices[src_id], self.vertices[dest_id]))\n",
    "\n",
    "    def plot_graph(self):\n",
    "        fig, ax = plt.subplots()\n",
    "        # Plot each vertex as a horizontal line\n",
    "        for v in self.vertices.values():\n",
    "            ax.hlines(y=v.y, xmin=v.x, xmax=v.x+10, color='blue')\n",
    "            ax.text(v.x+5, v.y, f'Vertex {v.id}', verticalalignment='bottom', horizontalalignment='center')\n",
    "\n",
    "        # Plot each edge as a vertical line between vertices\n",
    "        for edge in self.edges:\n",
    "            ax.plot([edge.src.x+5, edge.dest.x+5], [edge.src.y, edge.dest.y], color='red')\n",
    "\n",
    "        plt.title('Bar 2-Visibility Graph Representation')\n",
    "        ax.set_aspect('equal')\n",
    "        plt.gca().invert_yaxis()  # Invert y axis to match typical graph drawing\n",
    "        plt.show()\n",
    "\n",
    "# Example usage\n",
    "vertices = [Vertex(i, 0, i*20) for i in range(5)]  # 5 vertices positioned at different y levels\n",
    "graph = Graph(vertices)\n",
    "graph.add_edge(0, 1)\n",
    "graph.add_edge(1, 2)\n",
    "graph.add_edge(2, 3)\n",
    "graph.add_edge(3, 4)\n",
    "graph.add_edge(0, 4)\n",
    "graph.add_edge(1, 3)\n",
    "\n",
    "graph.plot_graph()\n"
   ]
  },
  {
   "cell_type": "code",
   "execution_count": 3,
   "id": "92f5e63e",
   "metadata": {},
   "outputs": [
    {
     "name": "stdout",
     "output_type": "stream",
     "text": [
      "Defaulting to user installation because normal site-packages is not writeable\n",
      "Requirement already satisfied: matplotlib in c:\\programdata\\anaconda3\\lib\\site-packages (3.5.2)\n",
      "Requirement already satisfied: networkx in c:\\programdata\\anaconda3\\lib\\site-packages (2.8.4)\n",
      "Requirement already satisfied: cycler>=0.10 in c:\\programdata\\anaconda3\\lib\\site-packages (from matplotlib) (0.11.0)\n",
      "Requirement already satisfied: packaging>=20.0 in c:\\programdata\\anaconda3\\lib\\site-packages (from matplotlib) (21.3)\n",
      "Requirement already satisfied: pillow>=6.2.0 in c:\\programdata\\anaconda3\\lib\\site-packages (from matplotlib) (9.2.0)\n",
      "Requirement already satisfied: numpy>=1.17 in c:\\programdata\\anaconda3\\lib\\site-packages (from matplotlib) (1.21.5)\n",
      "Requirement already satisfied: kiwisolver>=1.0.1 in c:\\programdata\\anaconda3\\lib\\site-packages (from matplotlib) (1.4.2)\n",
      "Requirement already satisfied: python-dateutil>=2.7 in c:\\programdata\\anaconda3\\lib\\site-packages (from matplotlib) (2.8.2)\n",
      "Requirement already satisfied: fonttools>=4.22.0 in c:\\programdata\\anaconda3\\lib\\site-packages (from matplotlib) (4.25.0)\n",
      "Requirement already satisfied: pyparsing>=2.2.1 in c:\\programdata\\anaconda3\\lib\\site-packages (from matplotlib) (3.0.9)\n",
      "Requirement already satisfied: six>=1.5 in c:\\programdata\\anaconda3\\lib\\site-packages (from python-dateutil>=2.7->matplotlib) (1.16.0)\n"
     ]
    }
   ],
   "source": [
    "!pip install matplotlib networkx\n"
   ]
  },
  {
   "cell_type": "code",
   "execution_count": 4,
   "id": "e0450349",
   "metadata": {},
   "outputs": [
    {
     "data": {
      "image/png": "[encoded data removed]",
      "text/plain": [
       "<Figure size 1200x800 with 1 Axes>"
      ]
     },
     "metadata": {},
     "output_type": "display_data"
    }
   ],
   "source": [
    "import networkx as nx\n",
    "import matplotlib.pyplot as plt\n",
    "import numpy as np\n",
    "\n",
    "def create_2_planar_graph():\n",
    "    G = nx.Graph()\n",
    "    # Add edges based on the 2-planar graph's structure (example structure)\n",
    "    edges = [(1, 2), (1, 3), (1, 4), (2, 3), (2, 4), (3, 4), (4, 5), (1, 5), (2, 5), (3, 5),\n",
    "             (6, 7), (6, 8), (7, 8), (6, 9), (7, 9), (8, 9), (9, 10), (8, 10), (7, 10), (6, 10)]\n",
    "    G.add_edges_from(edges)\n",
    "    return G\n",
    "\n",
    "def draw_bar_2_visibility(G):\n",
    "    pos = nx.spring_layout(G, iterations=50)  # Use spring layout to position the graph\n",
    "    plt.figure(figsize=(12, 8))\n",
    "    \n",
    "    # Compute horizontal positions and bar levels\n",
    "    y_values = np.linspace(0, 1, len(G.nodes()))\n",
    "    horizontal_positions = {node: (0.5, y) for node, y in zip(G.nodes(), y_values)}\n",
    "\n",
    "    # Draw nodes as horizontal lines\n",
    "    for node, (x, y) in horizontal_positions.items():\n",
    "        plt.hlines(y, x - 0.05, x + 0.05, colors='blue', label=f'Node {node}')\n",
    "        plt.text(x, y, f' {node}', verticalalignment='center')\n",
    "\n",
    "    # Draw edges as vertical lines, checking crossing constraints\n",
    "    for edge in G.edges():\n",
    "        n1, n2 = edge\n",
    "        y1, y2 = horizontal_positions[n1][1], horizontal_positions[n2][1]\n",
    "        x = (horizontal_positions[n1][0] + horizontal_positions[n2][0]) / 2\n",
    "        plt.vlines(x, y1, y2, colors='red')\n",
    "\n",
    "    plt.gca().invert_yaxis()  # Invert y-axis to better match typical graph drawings\n",
    "    plt.axis('off')\n",
    "    plt.title('Bar 2-Visibility Representation')\n",
    "    plt.show()\n",
    "\n",
    "# Create the graph and draw it\n",
    "G = create_2_planar_graph()\n",
    "draw_bar_2_visibility(G)\n"
   ]
  },
  {
   "cell_type": "code",
   "execution_count": null,
   "id": "0ea3eb72",
   "metadata": {},
   "outputs": [],
   "source": []
  }
 ],
 "metadata": {
  "kernelspec": {
   "display_name": "Python 3 (ipykernel)",
   "language": "python",
   "name": "python3"
  },
  "language_info": {
   "codemirror_mode": {
    "name": "ipython",
    "version": 3
   },
   "file_extension": ".py",
   "mimetype": "text/x-python",
   "name": "python",
   "nbconvert_exporter": "python",
   "pygments_lexer": "ipython3",
   "version": "3.9.13"
  }
 },
 "nbformat": 4,
 "nbformat_minor": 5
}
