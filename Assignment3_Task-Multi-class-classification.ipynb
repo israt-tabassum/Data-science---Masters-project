{
 "cells": [
  {
   "cell_type": "markdown",
   "id": "3dd6bda1",
   "metadata": {},
   "source": [
    "# Build a Neural Netwrok for multi-classification of IRIS types"
   ]
  },
  {
   "cell_type": "code",
   "execution_count": 1,
   "id": "935fdd3a",
   "metadata": {},
   "outputs": [],
   "source": [
    "#pip install keras"
   ]
  },
  {
   "cell_type": "code",
   "execution_count": 2,
   "id": "dc9c6c9d",
   "metadata": {},
   "outputs": [],
   "source": [
    "#pip install tensorflow"
   ]
  },
  {
   "cell_type": "code",
   "execution_count": 3,
   "id": "a0ec31f6",
   "metadata": {},
   "outputs": [],
   "source": [
    "# for reading data\n",
    "import pandas as pd\n",
    "import numpy as np\n",
    "from sklearn.preprocessing import LabelEncoder\n",
    "from keras.wrappers.scikit_learn import KerasClassifier\n",
    "from keras.utils import np_utils\n",
    "\n",
    "# for modeling\n",
    "from keras.models import Sequential\n",
    "from keras.layers import Dense, Dropout\n",
    "from keras.callbacks import EarlyStopping"
   ]
  },
  {
   "cell_type": "markdown",
   "id": "269c8287",
   "metadata": {},
   "source": [
    "# Load our data\n",
    "- We use Iris Species as the example dataset\n",
    "\n",
    "- Read the dataset\n",
    "- Shuffle the dataset"
   ]
  },
  {
   "cell_type": "code",
   "execution_count": 4,
   "id": "6bbbdf64",
   "metadata": {},
   "outputs": [
    {
     "data": {
      "text/html": [
       "<div>\n",
       "<style scoped>\n",
       "    .dataframe tbody tr th:only-of-type {\n",
       "        vertical-align: middle;\n",
       "    }\n",
       "\n",
       "    .dataframe tbody tr th {\n",
       "        vertical-align: top;\n",
       "    }\n",
       "\n",
       "    .dataframe thead th {\n",
       "        text-align: right;\n",
       "    }\n",
       "</style>\n",
       "<table border=\"1\" class=\"dataframe\">\n",
       "  <thead>\n",
       "    <tr style=\"text-align: right;\">\n",
       "      <th></th>\n",
       "      <th>Id</th>\n",
       "      <th>SepalLengthCm</th>\n",
       "      <th>SepalWidthCm</th>\n",
       "      <th>PetalLengthCm</th>\n",
       "      <th>PetalWidthCm</th>\n",
       "      <th>Species</th>\n",
       "    </tr>\n",
       "  </thead>\n",
       "  <tbody>\n",
       "    <tr>\n",
       "      <th>0</th>\n",
       "      <td>1</td>\n",
       "      <td>5.1</td>\n",
       "      <td>3.5</td>\n",
       "      <td>1.4</td>\n",
       "      <td>0.2</td>\n",
       "      <td>Iris-setosa</td>\n",
       "    </tr>\n",
       "    <tr>\n",
       "      <th>1</th>\n",
       "      <td>2</td>\n",
       "      <td>4.9</td>\n",
       "      <td>3.0</td>\n",
       "      <td>1.4</td>\n",
       "      <td>0.2</td>\n",
       "      <td>Iris-setosa</td>\n",
       "    </tr>\n",
       "    <tr>\n",
       "      <th>2</th>\n",
       "      <td>3</td>\n",
       "      <td>4.7</td>\n",
       "      <td>3.2</td>\n",
       "      <td>1.3</td>\n",
       "      <td>0.2</td>\n",
       "      <td>Iris-setosa</td>\n",
       "    </tr>\n",
       "    <tr>\n",
       "      <th>3</th>\n",
       "      <td>4</td>\n",
       "      <td>4.6</td>\n",
       "      <td>3.1</td>\n",
       "      <td>1.5</td>\n",
       "      <td>0.2</td>\n",
       "      <td>Iris-setosa</td>\n",
       "    </tr>\n",
       "    <tr>\n",
       "      <th>4</th>\n",
       "      <td>5</td>\n",
       "      <td>5.0</td>\n",
       "      <td>3.6</td>\n",
       "      <td>1.4</td>\n",
       "      <td>0.2</td>\n",
       "      <td>Iris-setosa</td>\n",
       "    </tr>\n",
       "  </tbody>\n",
       "</table>\n",
       "</div>"
      ],
      "text/plain": [
       "   Id  SepalLengthCm  SepalWidthCm  PetalLengthCm  PetalWidthCm      Species\n",
       "0   1            5.1           3.5            1.4           0.2  Iris-setosa\n",
       "1   2            4.9           3.0            1.4           0.2  Iris-setosa\n",
       "2   3            4.7           3.2            1.3           0.2  Iris-setosa\n",
       "3   4            4.6           3.1            1.5           0.2  Iris-setosa\n",
       "4   5            5.0           3.6            1.4           0.2  Iris-setosa"
      ]
     },
     "execution_count": 4,
     "metadata": {},
     "output_type": "execute_result"
    }
   ],
   "source": [
    "# read in the data\n",
    "\n",
    "df = pd.read_csv('Iris.csv')\n",
    "\n",
    "df.head()\n"
   ]
  },
  {
   "cell_type": "code",
   "execution_count": 5,
   "id": "737830a0",
   "metadata": {},
   "outputs": [
    {
     "name": "stdout",
     "output_type": "stream",
     "text": [
      "      Id  SepalLengthCm  SepalWidthCm  PetalLengthCm  PetalWidthCm  \\\n",
      "0     36            5.0           3.2            1.2           0.2   \n",
      "1    137            6.3           3.4            5.6           2.4   \n",
      "2    144            6.8           3.2            5.9           2.3   \n",
      "3     74            6.1           2.8            4.7           1.2   \n",
      "4    106            7.6           3.0            6.6           2.1   \n",
      "..   ...            ...           ...            ...           ...   \n",
      "145   27            5.0           3.4            1.6           0.4   \n",
      "146   25            4.8           3.4            1.9           0.2   \n",
      "147  117            6.5           3.0            5.5           1.8   \n",
      "148   96            5.7           3.0            4.2           1.2   \n",
      "149   99            5.1           2.5            3.0           1.1   \n",
      "\n",
      "             Species  \n",
      "0        Iris-setosa  \n",
      "1     Iris-virginica  \n",
      "2     Iris-virginica  \n",
      "3    Iris-versicolor  \n",
      "4     Iris-virginica  \n",
      "..               ...  \n",
      "145      Iris-setosa  \n",
      "146      Iris-setosa  \n",
      "147   Iris-virginica  \n",
      "148  Iris-versicolor  \n",
      "149  Iris-versicolor  \n",
      "\n",
      "[150 rows x 6 columns]\n"
     ]
    }
   ],
   "source": [
    "\n",
    "# shuffle the dataset to prevent the model from learning any patterns that might exist in the order of the data.! \n",
    "df = df.sample(frac=1).reset_index(drop=True)\n",
    "print(df)\n"
   ]
  },
  {
   "cell_type": "markdown",
   "id": "23f3247c",
   "metadata": {},
   "source": [
    "# Prepare data for modeling\n",
    "- Split the data(X,y)\n",
    "- Convert to NumPy array\n",
    "- Encode class values as integers\n"
   ]
  },
  {
   "cell_type": "code",
   "execution_count": 6,
   "id": "27fec073",
   "metadata": {},
   "outputs": [
    {
     "name": "stdout",
     "output_type": "stream",
     "text": [
      "      Id  SepalLengthCm  SepalWidthCm  PetalLengthCm  PetalWidthCm\n",
      "0     36            5.0           3.2            1.2           0.2\n",
      "1    137            6.3           3.4            5.6           2.4\n",
      "2    144            6.8           3.2            5.9           2.3\n",
      "3     74            6.1           2.8            4.7           1.2\n",
      "4    106            7.6           3.0            6.6           2.1\n",
      "..   ...            ...           ...            ...           ...\n",
      "145   27            5.0           3.4            1.6           0.4\n",
      "146   25            4.8           3.4            1.9           0.2\n",
      "147  117            6.5           3.0            5.5           1.8\n",
      "148   96            5.7           3.0            4.2           1.2\n",
      "149   99            5.1           2.5            3.0           1.1\n",
      "\n",
      "[150 rows x 5 columns]\n",
      "(150, 5)\n",
      "0          Iris-setosa\n",
      "1       Iris-virginica\n",
      "2       Iris-virginica\n",
      "3      Iris-versicolor\n",
      "4       Iris-virginica\n",
      "            ...       \n",
      "145        Iris-setosa\n",
      "146        Iris-setosa\n",
      "147     Iris-virginica\n",
      "148    Iris-versicolor\n",
      "149    Iris-versicolor\n",
      "Name: Species, Length: 150, dtype: object\n",
      "(150,)\n"
     ]
    }
   ],
   "source": [
    "# split into X and Y\n",
    "\n",
    "Y = df['Species']\n",
    "X = df.drop(['Species'], axis=1)\n",
    "\n",
    "print(X)\n",
    "print(X.shape)\n",
    "\n",
    "print(Y)\n",
    "print(Y.shape)\n"
   ]
  },
  {
   "cell_type": "code",
   "execution_count": 7,
   "id": "eefa44db",
   "metadata": {},
   "outputs": [],
   "source": [
    "# convert X to numpy arrays\n",
    "\n",
    "\n",
    "X = np.array(X)"
   ]
  },
  {
   "cell_type": "code",
   "execution_count": 8,
   "id": "ee3454f5",
   "metadata": {},
   "outputs": [
    {
     "name": "stdout",
     "output_type": "stream",
     "text": [
      "0          Iris-setosa\n",
      "1       Iris-virginica\n",
      "2       Iris-virginica\n",
      "3      Iris-versicolor\n",
      "4       Iris-virginica\n",
      "            ...       \n",
      "145        Iris-setosa\n",
      "146        Iris-setosa\n",
      "147     Iris-virginica\n",
      "148    Iris-versicolor\n",
      "149    Iris-versicolor\n",
      "Name: Species, Length: 150, dtype: object\n"
     ]
    },
    {
     "data": {
      "text/plain": [
       "<bound method NDFrame.head of 0          Iris-setosa\n",
       "1       Iris-virginica\n",
       "2       Iris-virginica\n",
       "3      Iris-versicolor\n",
       "4       Iris-virginica\n",
       "            ...       \n",
       "145        Iris-setosa\n",
       "146        Iris-setosa\n",
       "147     Iris-virginica\n",
       "148    Iris-versicolor\n",
       "149    Iris-versicolor\n",
       "Name: Species, Length: 150, dtype: object>"
      ]
     },
     "execution_count": 8,
     "metadata": {},
     "output_type": "execute_result"
    }
   ],
   "source": [
    "\n",
    "#show Y\n",
    "print(Y)\n",
    "Y.info\n",
    "Y.head"
   ]
  },
  {
   "cell_type": "code",
   "execution_count": 9,
   "id": "37880398",
   "metadata": {},
   "outputs": [
    {
     "name": "stdout",
     "output_type": "stream",
     "text": [
      "LabelEncoder()\n",
      "[0 2 2 1 2 0 1 1 0 1 0 1 0 2 2 1 0 1 0 0 0 1 1 1 0 1 2 1 2 2 2 0 2 1 2 2 0\n",
      " 1 0 1 0 1 1 1 1 0 0 1 1 2 2 0 2 1 0 0 2 2 0 0 0 0 2 2 0 1 2 1 0 2 1 0 1 0\n",
      " 1 2 0 1 2 2 0 1 0 0 1 1 2 2 0 2 1 1 2 2 1 1 1 0 1 0 0 0 2 0 2 2 1 2 1 1 2\n",
      " 2 1 1 2 2 0 0 1 2 0 2 2 0 2 2 1 0 0 2 1 2 1 0 0 1 2 2 0 2 2 0 1 0 2 0 0 2\n",
      " 1 1]\n"
     ]
    }
   ],
   "source": [
    "\n",
    "# work with labels\n",
    "# encode class values as integers\n",
    "label = LabelEncoder()\n",
    "print(label)\n",
    "\n",
    "\n",
    "label.fit(Y)\n",
    "label_Y = label.transform(Y)\n",
    "print(label_Y)\n",
    "\n"
   ]
  },
  {
   "cell_type": "code",
   "execution_count": 10,
   "id": "5ccbdb44",
   "metadata": {},
   "outputs": [
    {
     "name": "stdout",
     "output_type": "stream",
     "text": [
      "[[1. 0. 0.]\n",
      " [0. 0. 1.]\n",
      " [0. 0. 1.]\n",
      " [0. 1. 0.]\n",
      " [0. 0. 1.]\n",
      " [1. 0. 0.]\n",
      " [0. 1. 0.]\n",
      " [0. 1. 0.]\n",
      " [1. 0. 0.]\n",
      " [0. 1. 0.]\n",
      " [1. 0. 0.]\n",
      " [0. 1. 0.]\n",
      " [1. 0. 0.]\n",
      " [0. 0. 1.]\n",
      " [0. 0. 1.]\n",
      " [0. 1. 0.]\n",
      " [1. 0. 0.]\n",
      " [0. 1. 0.]\n",
      " [1. 0. 0.]\n",
      " [1. 0. 0.]\n",
      " [1. 0. 0.]\n",
      " [0. 1. 0.]\n",
      " [0. 1. 0.]\n",
      " [0. 1. 0.]\n",
      " [1. 0. 0.]\n",
      " [0. 1. 0.]\n",
      " [0. 0. 1.]\n",
      " [0. 1. 0.]\n",
      " [0. 0. 1.]\n",
      " [0. 0. 1.]\n",
      " [0. 0. 1.]\n",
      " [1. 0. 0.]\n",
      " [0. 0. 1.]\n",
      " [0. 1. 0.]\n",
      " [0. 0. 1.]\n",
      " [0. 0. 1.]\n",
      " [1. 0. 0.]\n",
      " [0. 1. 0.]\n",
      " [1. 0. 0.]\n",
      " [0. 1. 0.]\n",
      " [1. 0. 0.]\n",
      " [0. 1. 0.]\n",
      " [0. 1. 0.]\n",
      " [0. 1. 0.]\n",
      " [0. 1. 0.]\n",
      " [1. 0. 0.]\n",
      " [1. 0. 0.]\n",
      " [0. 1. 0.]\n",
      " [0. 1. 0.]\n",
      " [0. 0. 1.]\n",
      " [0. 0. 1.]\n",
      " [1. 0. 0.]\n",
      " [0. 0. 1.]\n",
      " [0. 1. 0.]\n",
      " [1. 0. 0.]\n",
      " [1. 0. 0.]\n",
      " [0. 0. 1.]\n",
      " [0. 0. 1.]\n",
      " [1. 0. 0.]\n",
      " [1. 0. 0.]\n",
      " [1. 0. 0.]\n",
      " [1. 0. 0.]\n",
      " [0. 0. 1.]\n",
      " [0. 0. 1.]\n",
      " [1. 0. 0.]\n",
      " [0. 1. 0.]\n",
      " [0. 0. 1.]\n",
      " [0. 1. 0.]\n",
      " [1. 0. 0.]\n",
      " [0. 0. 1.]\n",
      " [0. 1. 0.]\n",
      " [1. 0. 0.]\n",
      " [0. 1. 0.]\n",
      " [1. 0. 0.]\n",
      " [0. 1. 0.]\n",
      " [0. 0. 1.]\n",
      " [1. 0. 0.]\n",
      " [0. 1. 0.]\n",
      " [0. 0. 1.]\n",
      " [0. 0. 1.]\n",
      " [1. 0. 0.]\n",
      " [0. 1. 0.]\n",
      " [1. 0. 0.]\n",
      " [1. 0. 0.]\n",
      " [0. 1. 0.]\n",
      " [0. 1. 0.]\n",
      " [0. 0. 1.]\n",
      " [0. 0. 1.]\n",
      " [1. 0. 0.]\n",
      " [0. 0. 1.]\n",
      " [0. 1. 0.]\n",
      " [0. 1. 0.]\n",
      " [0. 0. 1.]\n",
      " [0. 0. 1.]\n",
      " [0. 1. 0.]\n",
      " [0. 1. 0.]\n",
      " [0. 1. 0.]\n",
      " [1. 0. 0.]\n",
      " [0. 1. 0.]\n",
      " [1. 0. 0.]\n",
      " [1. 0. 0.]\n",
      " [1. 0. 0.]\n",
      " [0. 0. 1.]\n",
      " [1. 0. 0.]\n",
      " [0. 0. 1.]\n",
      " [0. 0. 1.]\n",
      " [0. 1. 0.]\n",
      " [0. 0. 1.]\n",
      " [0. 1. 0.]\n",
      " [0. 1. 0.]\n",
      " [0. 0. 1.]\n",
      " [0. 0. 1.]\n",
      " [0. 1. 0.]\n",
      " [0. 1. 0.]\n",
      " [0. 0. 1.]\n",
      " [0. 0. 1.]\n",
      " [1. 0. 0.]\n",
      " [1. 0. 0.]\n",
      " [0. 1. 0.]\n",
      " [0. 0. 1.]\n",
      " [1. 0. 0.]\n",
      " [0. 0. 1.]\n",
      " [0. 0. 1.]\n",
      " [1. 0. 0.]\n",
      " [0. 0. 1.]\n",
      " [0. 0. 1.]\n",
      " [0. 1. 0.]\n",
      " [1. 0. 0.]\n",
      " [1. 0. 0.]\n",
      " [0. 0. 1.]\n",
      " [0. 1. 0.]\n",
      " [0. 0. 1.]\n",
      " [0. 1. 0.]\n",
      " [1. 0. 0.]\n",
      " [1. 0. 0.]\n",
      " [0. 1. 0.]\n",
      " [0. 0. 1.]\n",
      " [0. 0. 1.]\n",
      " [1. 0. 0.]\n",
      " [0. 0. 1.]\n",
      " [0. 0. 1.]\n",
      " [1. 0. 0.]\n",
      " [0. 1. 0.]\n",
      " [1. 0. 0.]\n",
      " [0. 0. 1.]\n",
      " [1. 0. 0.]\n",
      " [1. 0. 0.]\n",
      " [0. 0. 1.]\n",
      " [0. 1. 0.]\n",
      " [0. 1. 0.]]\n"
     ]
    }
   ],
   "source": [
    "\n",
    "# convert integers to dummy variables (i.e. one hot encoded) ; use to_categorical()\n",
    "\n",
    "y_dummy = np_utils.to_categorical(label_Y)\n",
    "print(y_dummy)"
   ]
  },
  {
   "cell_type": "markdown",
   "id": "d3c89d4e",
   "metadata": {},
   "source": [
    "# Build, Compile, Fit model\n",
    "- Use the Sequential API to build your model\n",
    "- Specify an optimizer (rmsprop or Adam)\n",
    "- Set a loss function (categorical_crossentropy)\n",
    "- EarlyStopping callbacks to prevent overfitting (patience of 10)\n",
    "- Fit the model (make a new variable called ‘history’ so you can evaluate the learning curves)"
   ]
  },
  {
   "cell_type": "code",
   "execution_count": 11,
   "id": "52607a24",
   "metadata": {},
   "outputs": [
    {
     "name": "stdout",
     "output_type": "stream",
     "text": [
      "Model: \"sequential\"\n",
      "_________________________________________________________________\n",
      " Layer (type)                Output Shape              Param #   \n",
      "=================================================================\n",
      " dense (Dense)               (None, 16)                96        \n",
      "                                                                 \n",
      " dense_1 (Dense)             (None, 3)                 51        \n",
      "                                                                 \n",
      "=================================================================\n",
      "Total params: 147\n",
      "Trainable params: 147\n",
      "Non-trainable params: 0\n",
      "_________________________________________________________________\n"
     ]
    }
   ],
   "source": [
    "# build a model with 1 or 2 layers and get summary of the model\n",
    "\n",
    "model = Sequential()\n",
    "model.add(Dense(16, input_shape=(X.shape[1],), name='dense', activation='relu'))\n",
    "model.add(Dense(3, activation='relu', name='dense_1'))\n",
    "\n",
    "model.summary()"
   ]
  },
  {
   "cell_type": "code",
   "execution_count": 12,
   "id": "ee9aead3",
   "metadata": {},
   "outputs": [],
   "source": [
    "# compile the model for multi-class classification\n",
    "model.compile(optimizer='adam', loss='categorical_crossentropy', metrics=['accuracy'])\n",
    "\n"
   ]
  },
  {
   "cell_type": "code",
   "execution_count": 13,
   "id": "2a76bd8b",
   "metadata": {},
   "outputs": [
    {
     "name": "stdout",
     "output_type": "stream",
     "text": [
      "Epoch 1/800000\n",
      "12/12 [==============================] - 2s 38ms/step - loss: nan - accuracy: 0.3500 - val_loss: nan - val_accuracy: 0.3667\n",
      "Epoch 2/800000\n",
      "12/12 [==============================] - 0s 8ms/step - loss: nan - accuracy: 0.3250 - val_loss: nan - val_accuracy: 0.3667\n",
      "Epoch 3/800000\n",
      "12/12 [==============================] - 0s 8ms/step - loss: nan - accuracy: 0.3250 - val_loss: nan - val_accuracy: 0.3667\n",
      "Epoch 4/800000\n",
      "12/12 [==============================] - 0s 8ms/step - loss: nan - accuracy: 0.3250 - val_loss: nan - val_accuracy: 0.3667\n",
      "Epoch 5/800000\n",
      "12/12 [==============================] - 0s 8ms/step - loss: nan - accuracy: 0.3250 - val_loss: nan - val_accuracy: 0.3667\n",
      "Epoch 6/800000\n",
      "12/12 [==============================] - 0s 8ms/step - loss: nan - accuracy: 0.3250 - val_loss: nan - val_accuracy: 0.3667\n",
      "Epoch 7/800000\n",
      "12/12 [==============================] - 0s 8ms/step - loss: nan - accuracy: 0.3250 - val_loss: nan - val_accuracy: 0.3667\n",
      "Epoch 8/800000\n",
      "12/12 [==============================] - 0s 8ms/step - loss: nan - accuracy: 0.3250 - val_loss: nan - val_accuracy: 0.3667\n",
      "Epoch 9/800000\n",
      "12/12 [==============================] - 0s 7ms/step - loss: nan - accuracy: 0.3250 - val_loss: nan - val_accuracy: 0.3667\n",
      "Epoch 10/800000\n",
      "12/12 [==============================] - 0s 9ms/step - loss: nan - accuracy: 0.3250 - val_loss: nan - val_accuracy: 0.3667\n"
     ]
    }
   ],
   "source": [
    "import keras\n",
    "from keras.callbacks import EarlyStopping\n",
    "\n",
    "# early stopping callback\n",
    "# early stopping callback\n",
    "# This callback will stop the training when there is no improvement in  \n",
    "# the validation loss for 10 consecutive epochs.  \n",
    "# now we just update our model fit call with 80/20 split\n",
    "early_stopping_callback = keras.callbacks.EarlyStopping(monitor='val_loss', \n",
    "                                   mode='min',\n",
    "                                   patience=10, \n",
    "                                   restore_best_weights=True)\n",
    "\n",
    "\n",
    "\n",
    "\n",
    "\n",
    "\n",
    "history = model.fit(X,\n",
    "                    y_dummy,\n",
    "                    callbacks=[early_stopping_callback],\n",
    "                    epochs=800000, # for setting a big number!\n",
    "                    batch_size=10,\n",
    "                    shuffle=True,\n",
    "                    validation_split=0.2,\n",
    "                    verbose=1)\n"
   ]
  },
  {
   "cell_type": "markdown",
   "id": "b828f67b",
   "metadata": {},
   "source": [
    "# Evaluate the Model\n",
    "- Learning curves (Loss)\n",
    "- Learning curves (Accuracy)\n",
    "- Confusion matrix"
   ]
  },
  {
   "cell_type": "code",
   "execution_count": 21,
   "id": "a84c2d3e",
   "metadata": {},
   "outputs": [
    {
     "data": {
      "image/png": "[encoded data removed]",
      "text/plain": [
       "<Figure size 640x480 with 1 Axes>"
      ]
     },
     "metadata": {},
     "output_type": "display_data"
    }
   ],
   "source": [
    "\n",
    "import matplotlib.pyplot as plt\n",
    "\n",
    "history_directory = history\n",
    "\n",
    "\n",
    "\n",
    "# learning curve\n",
    "# accuracy\n",
    "accuracy = history_directory['accuracy']\n",
    "value_accuracy = history_directory['val_accuracy']\n",
    "\n",
    "\n",
    "\n",
    "\n",
    "# loss\n",
    "loss = history_directory['loss']\n",
    "value_loss = history_directory['val_loss']\n",
    "\n",
    "\n",
    "\n",
    "# range of X (no. of epochs)\n",
    "num_epochs = range(1, len(accuracy) + 1)\n",
    "\n",
    "\n",
    "\n",
    "# plot\n",
    "# \"r\" is for \"solid red line\"\n",
    "plt.plot(num_epochs, accuracy, 'r', label='Accuracy of Training')\n",
    "\n",
    "# b is for \"solid blue line\"\n",
    "plt.plot(num_epochs, value_accuracy, 'b', label='Accuracy of Validation')\n",
    "\n",
    "plt.xlabel('Number of Epochs')\n",
    "plt.ylabel(' Number of Accuracy')\n",
    "plt.legend()\n",
    "\n",
    "plt.show()\n",
    "\n",
    "\n"
   ]
  },
  {
   "cell_type": "code",
   "execution_count": 15,
   "id": "0fb58819",
   "metadata": {},
   "outputs": [
    {
     "name": "stdout",
     "output_type": "stream",
     "text": [
      "5/5 [==============================] - 0s 2ms/step\n",
      "[nan nan nan]\n",
      "nan\n",
      "[[50  0  0]\n",
      " [50  0  0]\n",
      " [50  0  0]]\n"
     ]
    }
   ],
   "source": [
    "from sklearn.metrics import confusion_matrix\n",
    "from sklearn.metrics import classification_report\n",
    "\n",
    "#see how the model did!\n",
    "## i'm spreading that prediction across three nodes and they sum to 1\n",
    "# sum it up! Should be 1\n",
    "## [9.9999988e-01 1.3509347e-07 6.7064638e-16]\n",
    "## 1.0\n",
    "# Almost a perfect prediction\n",
    "# actual is left, predicted is top\n",
    "# names can be found by inspecting Y\n",
    "\n",
    "prediction = model.predict(X) \n",
    "print(prediction[0])\n",
    "print(np.sum(prediction[0]))\n",
    "\n",
    "\n",
    "#showing matrix\n",
    "matrix = confusion_matrix(y_dummy.argmax(axis=1), prediction.argmax(axis=1))\n",
    "\n",
    "print(matrix)\n",
    "\n",
    "\n"
   ]
  },
  {
   "cell_type": "code",
   "execution_count": 50,
   "id": "662cdc8c",
   "metadata": {},
   "outputs": [
    {
     "name": "stdout",
     "output_type": "stream",
     "text": [
      "              precision    recall  f1-score   support\n",
      "\n",
      "           0       1.00      0.98      0.99        50\n",
      "           1       0.50      1.00      0.66        50\n",
      "           2       0.00      0.00      0.00        50\n",
      "\n",
      "    accuracy                           0.66       150\n",
      "   macro avg       0.50      0.66      0.55       150\n",
      "weighted avg       0.50      0.66      0.55       150\n",
      "\n"
     ]
    },
    {
     "name": "stderr",
     "output_type": "stream",
     "text": [
      "C:\\ProgramData\\Anaconda3\\lib\\site-packages\\sklearn\\metrics\\_classification.py:1318: UndefinedMetricWarning: Precision and F-score are ill-defined and being set to 0.0 in labels with no predicted samples. Use `zero_division` parameter to control this behavior.\n",
      "  _warn_prf(average, modifier, msg_start, len(result))\n",
      "C:\\ProgramData\\Anaconda3\\lib\\site-packages\\sklearn\\metrics\\_classification.py:1318: UndefinedMetricWarning: Precision and F-score are ill-defined and being set to 0.0 in labels with no predicted samples. Use `zero_division` parameter to control this behavior.\n",
      "  _warn_prf(average, modifier, msg_start, len(result))\n",
      "C:\\ProgramData\\Anaconda3\\lib\\site-packages\\sklearn\\metrics\\_classification.py:1318: UndefinedMetricWarning: Precision and F-score are ill-defined and being set to 0.0 in labels with no predicted samples. Use `zero_division` parameter to control this behavior.\n",
      "  _warn_prf(average, modifier, msg_start, len(result))\n"
     ]
    }
   ],
   "source": [
    "\n",
    "# more detail on how well things were predicted\n",
    "print(classification_report(y_dummy.argmax(axis=1), prediction.argmax(axis=1)))"
   ]
  },
  {
   "cell_type": "code",
   "execution_count": null,
   "id": "466c37de",
   "metadata": {},
   "outputs": [],
   "source": []
  }
 ],
 "metadata": {
  "kernelspec": {
   "display_name": "Python 3 (ipykernel)",
   "language": "python",
   "name": "python3"
  },
  "language_info": {
   "codemirror_mode": {
    "name": "ipython",
    "version": 3
   },
   "file_extension": ".py",
   "mimetype": "text/x-python",
   "name": "python",
   "nbconvert_exporter": "python",
   "pygments_lexer": "ipython3",
   "version": "3.9.13"
  }
 },
 "nbformat": 4,
 "nbformat_minor": 5
}
